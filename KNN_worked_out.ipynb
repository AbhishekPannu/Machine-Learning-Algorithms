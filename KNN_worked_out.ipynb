{
  "nbformat": 4,
  "nbformat_minor": 0,
  "metadata": {
    "colab": {
      "name": "KNN worked out.ipynb",
      "provenance": [],
      "include_colab_link": true
    },
    "kernelspec": {
      "name": "python3",
      "display_name": "Python 3"
    },
    "language_info": {
      "name": "python"
    }
  },
  "cells": [
    {
      "cell_type": "markdown",
      "metadata": {
        "id": "view-in-github",
        "colab_type": "text"
      },
      "source": [
        "<a href=\"https://colab.research.google.com/github/abinashgochhayat1998/BasicMachineLearningAlgorithms/blob/main/KNN_worked_out.ipynb\" target=\"_parent\"><img src=\"https://colab.research.google.com/assets/colab-badge.svg\" alt=\"Open In Colab\"/></a>"
      ]
    },
    {
      "cell_type": "markdown",
      "metadata": {
        "id": "sF-VM-5sWpqR"
      },
      "source": [
        "Adapted from https://www.kaggle.com/anuchacko/knn-classifier-tutorial/edit"
      ]
    },
    {
      "cell_type": "code",
      "metadata": {
        "id": "-qzL5p65vJfW"
      },
      "source": [
        "import numpy as np # linear algebra\n",
        "import pandas as pd # data processing, CSV file I/O (e.g. pd.read_csv)\n",
        "import matplotlib.pyplot as plt # for data visualization purposes\n",
        "import seaborn as sns # for data visualization"
      ],
      "execution_count": null,
      "outputs": []
    },
    {
      "cell_type": "code",
      "metadata": {
        "id": "xeen4GvWvTqF"
      },
      "source": [
        "data = 'breast-cancer-wisconsin.data.txt'\n",
        "\n",
        "df = pd.read_csv(data, header=None)"
      ],
      "execution_count": null,
      "outputs": []
    },
    {
      "cell_type": "markdown",
      "metadata": {
        "id": "GjEVpK0vwOPm"
      },
      "source": [
        "Exploratory Data Analysis and Cleaning"
      ]
    },
    {
      "cell_type": "code",
      "metadata": {
        "colab": {
          "base_uri": "https://localhost:8080/"
        },
        "id": "-lQcihhywRav",
        "outputId": "72073a84-22cc-4885-fccd-6c5ff41d45c1"
      },
      "source": [
        "df.shape"
      ],
      "execution_count": null,
      "outputs": [
        {
          "output_type": "execute_result",
          "data": {
            "text/plain": [
              "(700, 11)"
            ]
          },
          "metadata": {
            "tags": []
          },
          "execution_count": 57
        }
      ]
    },
    {
      "cell_type": "code",
      "metadata": {
        "colab": {
          "base_uri": "https://localhost:8080/",
          "height": 224
        },
        "id": "gUNnEX7SwXWS",
        "outputId": "e994de47-9c98-4bae-f0b5-866ca5279034"
      },
      "source": [
        "df.head()"
      ],
      "execution_count": null,
      "outputs": [
        {
          "output_type": "execute_result",
          "data": {
            "text/html": [
              "<div>\n",
              "<style scoped>\n",
              "    .dataframe tbody tr th:only-of-type {\n",
              "        vertical-align: middle;\n",
              "    }\n",
              "\n",
              "    .dataframe tbody tr th {\n",
              "        vertical-align: top;\n",
              "    }\n",
              "\n",
              "    .dataframe thead th {\n",
              "        text-align: right;\n",
              "    }\n",
              "</style>\n",
              "<table border=\"1\" class=\"dataframe\">\n",
              "  <thead>\n",
              "    <tr style=\"text-align: right;\">\n",
              "      <th></th>\n",
              "      <th>0</th>\n",
              "      <th>1</th>\n",
              "      <th>2</th>\n",
              "      <th>3</th>\n",
              "      <th>4</th>\n",
              "      <th>5</th>\n",
              "      <th>6</th>\n",
              "      <th>7</th>\n",
              "      <th>8</th>\n",
              "      <th>9</th>\n",
              "      <th>10</th>\n",
              "    </tr>\n",
              "  </thead>\n",
              "  <tbody>\n",
              "    <tr>\n",
              "      <th>0</th>\n",
              "      <td>id</td>\n",
              "      <td>clump_thickness</td>\n",
              "      <td>uni_cell_size</td>\n",
              "      <td>uni_cell_shape</td>\n",
              "      <td>marg_adhesion</td>\n",
              "      <td>epithelial_size</td>\n",
              "      <td>bare_nuclei</td>\n",
              "      <td>bland_chromatin</td>\n",
              "      <td>Normal_Nucleoli</td>\n",
              "      <td>mitoses</td>\n",
              "      <td>class</td>\n",
              "    </tr>\n",
              "    <tr>\n",
              "      <th>1</th>\n",
              "      <td>1000025</td>\n",
              "      <td>5</td>\n",
              "      <td>1</td>\n",
              "      <td>1</td>\n",
              "      <td>1</td>\n",
              "      <td>2</td>\n",
              "      <td>1</td>\n",
              "      <td>3</td>\n",
              "      <td>1</td>\n",
              "      <td>1</td>\n",
              "      <td>2</td>\n",
              "    </tr>\n",
              "    <tr>\n",
              "      <th>2</th>\n",
              "      <td>1002945</td>\n",
              "      <td>5</td>\n",
              "      <td>4</td>\n",
              "      <td>4</td>\n",
              "      <td>5</td>\n",
              "      <td>7</td>\n",
              "      <td>10</td>\n",
              "      <td>3</td>\n",
              "      <td>2</td>\n",
              "      <td>1</td>\n",
              "      <td>2</td>\n",
              "    </tr>\n",
              "    <tr>\n",
              "      <th>3</th>\n",
              "      <td>1015425</td>\n",
              "      <td>3</td>\n",
              "      <td>1</td>\n",
              "      <td>1</td>\n",
              "      <td>1</td>\n",
              "      <td>2</td>\n",
              "      <td>2</td>\n",
              "      <td>3</td>\n",
              "      <td>1</td>\n",
              "      <td>1</td>\n",
              "      <td>2</td>\n",
              "    </tr>\n",
              "    <tr>\n",
              "      <th>4</th>\n",
              "      <td>1016277</td>\n",
              "      <td>6</td>\n",
              "      <td>8</td>\n",
              "      <td>8</td>\n",
              "      <td>1</td>\n",
              "      <td>3</td>\n",
              "      <td>4</td>\n",
              "      <td>3</td>\n",
              "      <td>7</td>\n",
              "      <td>1</td>\n",
              "      <td>2</td>\n",
              "    </tr>\n",
              "  </tbody>\n",
              "</table>\n",
              "</div>"
            ],
            "text/plain": [
              "        0                1              2   ...               8        9      10\n",
              "0       id  clump_thickness  uni_cell_size  ...  Normal_Nucleoli  mitoses  class\n",
              "1  1000025                5              1  ...                1        1      2\n",
              "2  1002945                5              4  ...                2        1      2\n",
              "3  1015425                3              1  ...                1        1      2\n",
              "4  1016277                6              8  ...                7        1      2\n",
              "\n",
              "[5 rows x 11 columns]"
            ]
          },
          "metadata": {
            "tags": []
          },
          "execution_count": 58
        }
      ]
    },
    {
      "cell_type": "markdown",
      "metadata": {
        "id": "lA-kSHkUwdLe"
      },
      "source": [
        "Rename column names\n",
        "\n",
        "We can see that the dataset does not have proper column names. The columns are merely labelled as 0,1,2.... and so on. We should give proper names to the columns."
      ]
    },
    {
      "cell_type": "code",
      "metadata": {
        "colab": {
          "base_uri": "https://localhost:8080/"
        },
        "id": "Ht6u_j63wgwB",
        "outputId": "2a95a09b-f469-456c-9f2a-f97f11ef54c6"
      },
      "source": [
        "col_names = ['Id', 'Clump_thickness', 'Uniformity_Cell_Size', 'Uniformity_Cell_Shape', 'Marginal_Adhesion', \n",
        "             'Single_Epithelial_Cell_Size', 'Bare_Nuclei', 'Bland_Chromatin', 'Normal_Nucleoli', 'Mitoses', 'Class']\n",
        "\n",
        "df.columns = col_names\n",
        "\n",
        "df.columns"
      ],
      "execution_count": null,
      "outputs": [
        {
          "output_type": "execute_result",
          "data": {
            "text/plain": [
              "Index(['Id', 'Clump_thickness', 'Uniformity_Cell_Size',\n",
              "       'Uniformity_Cell_Shape', 'Marginal_Adhesion',\n",
              "       'Single_Epithelial_Cell_Size', 'Bare_Nuclei', 'Bland_Chromatin',\n",
              "       'Normal_Nucleoli', 'Mitoses', 'Class'],\n",
              "      dtype='object')"
            ]
          },
          "metadata": {
            "tags": []
          },
          "execution_count": 170
        }
      ]
    },
    {
      "cell_type": "code",
      "metadata": {
        "colab": {
          "base_uri": "https://localhost:8080/",
          "height": 224
        },
        "id": "sWqt7z0bwk1V",
        "outputId": "e0e41322-ec99-4b46-8195-d46fee498dd3"
      },
      "source": [
        "df.head()"
      ],
      "execution_count": null,
      "outputs": [
        {
          "output_type": "execute_result",
          "data": {
            "text/html": [
              "<div>\n",
              "<style scoped>\n",
              "    .dataframe tbody tr th:only-of-type {\n",
              "        vertical-align: middle;\n",
              "    }\n",
              "\n",
              "    .dataframe tbody tr th {\n",
              "        vertical-align: top;\n",
              "    }\n",
              "\n",
              "    .dataframe thead th {\n",
              "        text-align: right;\n",
              "    }\n",
              "</style>\n",
              "<table border=\"1\" class=\"dataframe\">\n",
              "  <thead>\n",
              "    <tr style=\"text-align: right;\">\n",
              "      <th></th>\n",
              "      <th>Id</th>\n",
              "      <th>Clump_thickness</th>\n",
              "      <th>Uniformity_Cell_Size</th>\n",
              "      <th>Uniformity_Cell_Shape</th>\n",
              "      <th>Marginal_Adhesion</th>\n",
              "      <th>Single_Epithelial_Cell_Size</th>\n",
              "      <th>Bare_Nuclei</th>\n",
              "      <th>Bland_Chromatin</th>\n",
              "      <th>Normal_Nucleoli</th>\n",
              "      <th>Mitoses</th>\n",
              "      <th>Class</th>\n",
              "    </tr>\n",
              "  </thead>\n",
              "  <tbody>\n",
              "    <tr>\n",
              "      <th>0</th>\n",
              "      <td>id</td>\n",
              "      <td>clump_thickness</td>\n",
              "      <td>uni_cell_size</td>\n",
              "      <td>uni_cell_shape</td>\n",
              "      <td>marg_adhesion</td>\n",
              "      <td>epithelial_size</td>\n",
              "      <td>bare_nuclei</td>\n",
              "      <td>bland_chromatin</td>\n",
              "      <td>Normal_Nucleoli</td>\n",
              "      <td>mitoses</td>\n",
              "      <td>class</td>\n",
              "    </tr>\n",
              "    <tr>\n",
              "      <th>1</th>\n",
              "      <td>1000025</td>\n",
              "      <td>5</td>\n",
              "      <td>1</td>\n",
              "      <td>1</td>\n",
              "      <td>1</td>\n",
              "      <td>2</td>\n",
              "      <td>1</td>\n",
              "      <td>3</td>\n",
              "      <td>1</td>\n",
              "      <td>1</td>\n",
              "      <td>2</td>\n",
              "    </tr>\n",
              "    <tr>\n",
              "      <th>2</th>\n",
              "      <td>1002945</td>\n",
              "      <td>5</td>\n",
              "      <td>4</td>\n",
              "      <td>4</td>\n",
              "      <td>5</td>\n",
              "      <td>7</td>\n",
              "      <td>10</td>\n",
              "      <td>3</td>\n",
              "      <td>2</td>\n",
              "      <td>1</td>\n",
              "      <td>2</td>\n",
              "    </tr>\n",
              "    <tr>\n",
              "      <th>3</th>\n",
              "      <td>1015425</td>\n",
              "      <td>3</td>\n",
              "      <td>1</td>\n",
              "      <td>1</td>\n",
              "      <td>1</td>\n",
              "      <td>2</td>\n",
              "      <td>2</td>\n",
              "      <td>3</td>\n",
              "      <td>1</td>\n",
              "      <td>1</td>\n",
              "      <td>2</td>\n",
              "    </tr>\n",
              "    <tr>\n",
              "      <th>4</th>\n",
              "      <td>1016277</td>\n",
              "      <td>6</td>\n",
              "      <td>8</td>\n",
              "      <td>8</td>\n",
              "      <td>1</td>\n",
              "      <td>3</td>\n",
              "      <td>4</td>\n",
              "      <td>3</td>\n",
              "      <td>7</td>\n",
              "      <td>1</td>\n",
              "      <td>2</td>\n",
              "    </tr>\n",
              "  </tbody>\n",
              "</table>\n",
              "</div>"
            ],
            "text/plain": [
              "        Id  Clump_thickness  ...  Mitoses  Class\n",
              "0       id  clump_thickness  ...  mitoses  class\n",
              "1  1000025                5  ...        1      2\n",
              "2  1002945                5  ...        1      2\n",
              "3  1015425                3  ...        1      2\n",
              "4  1016277                6  ...        1      2\n",
              "\n",
              "[5 rows x 11 columns]"
            ]
          },
          "metadata": {
            "tags": []
          },
          "execution_count": 171
        }
      ]
    },
    {
      "cell_type": "markdown",
      "metadata": {
        "id": "6DoIegLrwmao"
      },
      "source": [
        "Drop redundant columns\n",
        "\n",
        "We should drop any redundant columns from the dataset which does not have any predictive power. Here, Id is the redundant column."
      ]
    },
    {
      "cell_type": "code",
      "metadata": {
        "colab": {
          "base_uri": "https://localhost:8080/",
          "height": 439
        },
        "id": "YWOOYlAuwrba",
        "outputId": "480bb606-f537-48f9-cbec-1d10ffc21703"
      },
      "source": [
        "df.drop('Id', axis=1, inplace=True)\n",
        "df.drop(df.index[0])"
      ],
      "execution_count": null,
      "outputs": [
        {
          "output_type": "execute_result",
          "data": {
            "text/html": [
              "<div>\n",
              "<style scoped>\n",
              "    .dataframe tbody tr th:only-of-type {\n",
              "        vertical-align: middle;\n",
              "    }\n",
              "\n",
              "    .dataframe tbody tr th {\n",
              "        vertical-align: top;\n",
              "    }\n",
              "\n",
              "    .dataframe thead th {\n",
              "        text-align: right;\n",
              "    }\n",
              "</style>\n",
              "<table border=\"1\" class=\"dataframe\">\n",
              "  <thead>\n",
              "    <tr style=\"text-align: right;\">\n",
              "      <th></th>\n",
              "      <th>Clump_thickness</th>\n",
              "      <th>Uniformity_Cell_Size</th>\n",
              "      <th>Uniformity_Cell_Shape</th>\n",
              "      <th>Marginal_Adhesion</th>\n",
              "      <th>Single_Epithelial_Cell_Size</th>\n",
              "      <th>Bare_Nuclei</th>\n",
              "      <th>Bland_Chromatin</th>\n",
              "      <th>Normal_Nucleoli</th>\n",
              "      <th>Mitoses</th>\n",
              "      <th>Class</th>\n",
              "    </tr>\n",
              "  </thead>\n",
              "  <tbody>\n",
              "    <tr>\n",
              "      <th>1</th>\n",
              "      <td>5</td>\n",
              "      <td>1</td>\n",
              "      <td>1</td>\n",
              "      <td>1</td>\n",
              "      <td>2</td>\n",
              "      <td>1</td>\n",
              "      <td>3</td>\n",
              "      <td>1</td>\n",
              "      <td>1</td>\n",
              "      <td>2</td>\n",
              "    </tr>\n",
              "    <tr>\n",
              "      <th>2</th>\n",
              "      <td>5</td>\n",
              "      <td>4</td>\n",
              "      <td>4</td>\n",
              "      <td>5</td>\n",
              "      <td>7</td>\n",
              "      <td>10</td>\n",
              "      <td>3</td>\n",
              "      <td>2</td>\n",
              "      <td>1</td>\n",
              "      <td>2</td>\n",
              "    </tr>\n",
              "    <tr>\n",
              "      <th>3</th>\n",
              "      <td>3</td>\n",
              "      <td>1</td>\n",
              "      <td>1</td>\n",
              "      <td>1</td>\n",
              "      <td>2</td>\n",
              "      <td>2</td>\n",
              "      <td>3</td>\n",
              "      <td>1</td>\n",
              "      <td>1</td>\n",
              "      <td>2</td>\n",
              "    </tr>\n",
              "    <tr>\n",
              "      <th>4</th>\n",
              "      <td>6</td>\n",
              "      <td>8</td>\n",
              "      <td>8</td>\n",
              "      <td>1</td>\n",
              "      <td>3</td>\n",
              "      <td>4</td>\n",
              "      <td>3</td>\n",
              "      <td>7</td>\n",
              "      <td>1</td>\n",
              "      <td>2</td>\n",
              "    </tr>\n",
              "    <tr>\n",
              "      <th>5</th>\n",
              "      <td>4</td>\n",
              "      <td>1</td>\n",
              "      <td>1</td>\n",
              "      <td>3</td>\n",
              "      <td>2</td>\n",
              "      <td>1</td>\n",
              "      <td>3</td>\n",
              "      <td>1</td>\n",
              "      <td>1</td>\n",
              "      <td>2</td>\n",
              "    </tr>\n",
              "    <tr>\n",
              "      <th>...</th>\n",
              "      <td>...</td>\n",
              "      <td>...</td>\n",
              "      <td>...</td>\n",
              "      <td>...</td>\n",
              "      <td>...</td>\n",
              "      <td>...</td>\n",
              "      <td>...</td>\n",
              "      <td>...</td>\n",
              "      <td>...</td>\n",
              "      <td>...</td>\n",
              "    </tr>\n",
              "    <tr>\n",
              "      <th>695</th>\n",
              "      <td>3</td>\n",
              "      <td>1</td>\n",
              "      <td>1</td>\n",
              "      <td>1</td>\n",
              "      <td>3</td>\n",
              "      <td>2</td>\n",
              "      <td>1</td>\n",
              "      <td>1</td>\n",
              "      <td>1</td>\n",
              "      <td>2</td>\n",
              "    </tr>\n",
              "    <tr>\n",
              "      <th>696</th>\n",
              "      <td>2</td>\n",
              "      <td>1</td>\n",
              "      <td>1</td>\n",
              "      <td>1</td>\n",
              "      <td>2</td>\n",
              "      <td>1</td>\n",
              "      <td>1</td>\n",
              "      <td>1</td>\n",
              "      <td>1</td>\n",
              "      <td>2</td>\n",
              "    </tr>\n",
              "    <tr>\n",
              "      <th>697</th>\n",
              "      <td>5</td>\n",
              "      <td>10</td>\n",
              "      <td>10</td>\n",
              "      <td>3</td>\n",
              "      <td>7</td>\n",
              "      <td>3</td>\n",
              "      <td>8</td>\n",
              "      <td>10</td>\n",
              "      <td>2</td>\n",
              "      <td>4</td>\n",
              "    </tr>\n",
              "    <tr>\n",
              "      <th>698</th>\n",
              "      <td>4</td>\n",
              "      <td>8</td>\n",
              "      <td>6</td>\n",
              "      <td>4</td>\n",
              "      <td>3</td>\n",
              "      <td>4</td>\n",
              "      <td>10</td>\n",
              "      <td>6</td>\n",
              "      <td>1</td>\n",
              "      <td>4</td>\n",
              "    </tr>\n",
              "    <tr>\n",
              "      <th>699</th>\n",
              "      <td>4</td>\n",
              "      <td>8</td>\n",
              "      <td>8</td>\n",
              "      <td>5</td>\n",
              "      <td>4</td>\n",
              "      <td>5</td>\n",
              "      <td>10</td>\n",
              "      <td>4</td>\n",
              "      <td>1</td>\n",
              "      <td>4</td>\n",
              "    </tr>\n",
              "  </tbody>\n",
              "</table>\n",
              "<p>699 rows × 10 columns</p>\n",
              "</div>"
            ],
            "text/plain": [
              "    Clump_thickness Uniformity_Cell_Size  ... Mitoses Class\n",
              "1                 5                    1  ...       1     2\n",
              "2                 5                    4  ...       1     2\n",
              "3                 3                    1  ...       1     2\n",
              "4                 6                    8  ...       1     2\n",
              "5                 4                    1  ...       1     2\n",
              "..              ...                  ...  ...     ...   ...\n",
              "695               3                    1  ...       1     2\n",
              "696               2                    1  ...       1     2\n",
              "697               5                   10  ...       2     4\n",
              "698               4                    8  ...       1     4\n",
              "699               4                    8  ...       1     4\n",
              "\n",
              "[699 rows x 10 columns]"
            ]
          },
          "metadata": {
            "tags": []
          },
          "execution_count": 172
        }
      ]
    },
    {
      "cell_type": "markdown",
      "metadata": {
        "id": "_g_HiQdUwymE"
      },
      "source": [
        "View summary of dataset"
      ]
    },
    {
      "cell_type": "code",
      "metadata": {
        "colab": {
          "base_uri": "https://localhost:8080/"
        },
        "id": "bxzeyuazwzty",
        "outputId": "c215595d-9c00-4662-b42d-0c5ce0773038"
      },
      "source": [
        "df.info()"
      ],
      "execution_count": null,
      "outputs": [
        {
          "output_type": "stream",
          "text": [
            "<class 'pandas.core.frame.DataFrame'>\n",
            "RangeIndex: 700 entries, 0 to 699\n",
            "Data columns (total 10 columns):\n",
            " #   Column                       Non-Null Count  Dtype \n",
            "---  ------                       --------------  ----- \n",
            " 0   Clump_thickness              700 non-null    object\n",
            " 1   Uniformity_Cell_Size         700 non-null    object\n",
            " 2   Uniformity_Cell_Shape        700 non-null    object\n",
            " 3   Marginal_Adhesion            700 non-null    object\n",
            " 4   Single_Epithelial_Cell_Size  700 non-null    object\n",
            " 5   Bare_Nuclei                  700 non-null    object\n",
            " 6   Bland_Chromatin              700 non-null    object\n",
            " 7   Normal_Nucleoli              700 non-null    object\n",
            " 8   Mitoses                      700 non-null    object\n",
            " 9   Class                        700 non-null    object\n",
            "dtypes: object(10)\n",
            "memory usage: 54.8+ KB\n"
          ],
          "name": "stdout"
        }
      ]
    },
    {
      "cell_type": "markdown",
      "metadata": {
        "id": "Gy5zWgMpzZRv"
      },
      "source": [
        "Frequency distribution of values in variables"
      ]
    },
    {
      "cell_type": "code",
      "metadata": {
        "colab": {
          "base_uri": "https://localhost:8080/"
        },
        "id": "rfpyYzbGzMuk",
        "outputId": "d7f7b3c9-dd06-46be-90e5-d8e98bece03b"
      },
      "source": [
        "for var in df.columns:\n",
        "    \n",
        "    print(df[var].value_counts())"
      ],
      "execution_count": null,
      "outputs": [
        {
          "output_type": "stream",
          "text": [
            "1                  145\n",
            "5                  130\n",
            "3                  108\n",
            "4                   80\n",
            "10                  69\n",
            "2                   50\n",
            "8                   46\n",
            "6                   34\n",
            "7                   23\n",
            "9                   14\n",
            "clump_thickness      1\n",
            "Name: Clump_thickness, dtype: int64\n",
            "1                384\n",
            "10                67\n",
            "3                 52\n",
            "2                 45\n",
            "4                 40\n",
            "5                 30\n",
            "8                 29\n",
            "6                 27\n",
            "7                 19\n",
            "9                  6\n",
            "uni_cell_size      1\n",
            "Name: Uniformity_Cell_Size, dtype: int64\n",
            "1                 353\n",
            "2                  59\n",
            "10                 58\n",
            "3                  56\n",
            "4                  44\n",
            "5                  34\n",
            "6                  30\n",
            "7                  30\n",
            "8                  28\n",
            "9                   7\n",
            "uni_cell_shape      1\n",
            "Name: Uniformity_Cell_Shape, dtype: int64\n",
            "1                407\n",
            "3                 58\n",
            "2                 58\n",
            "10                55\n",
            "4                 33\n",
            "8                 25\n",
            "5                 23\n",
            "6                 22\n",
            "7                 13\n",
            "9                  5\n",
            "marg_adhesion      1\n",
            "Name: Marginal_Adhesion, dtype: int64\n",
            "2                  386\n",
            "3                   72\n",
            "4                   48\n",
            "1                   47\n",
            "6                   41\n",
            "5                   39\n",
            "10                  31\n",
            "8                   21\n",
            "7                   12\n",
            "9                    2\n",
            "epithelial_size      1\n",
            "Name: Single_Epithelial_Cell_Size, dtype: int64\n",
            "1              402\n",
            "10             132\n",
            "2               30\n",
            "5               30\n",
            "3               28\n",
            "8               21\n",
            "4               19\n",
            "?               16\n",
            "9                9\n",
            "7                8\n",
            "6                4\n",
            "bare_nuclei      1\n",
            "Name: Bare_Nuclei, dtype: int64\n",
            "2                  166\n",
            "3                  165\n",
            "1                  152\n",
            "7                   73\n",
            "4                   40\n",
            "5                   34\n",
            "8                   28\n",
            "10                  20\n",
            "9                   11\n",
            "6                   10\n",
            "bland_chromatin      1\n",
            "Name: Bland_Chromatin, dtype: int64\n",
            "1                  443\n",
            "10                  61\n",
            "3                   44\n",
            "2                   36\n",
            "8                   24\n",
            "6                   22\n",
            "5                   19\n",
            "4                   18\n",
            "7                   16\n",
            "9                   16\n",
            "Normal_Nucleoli      1\n",
            "Name: Normal_Nucleoli, dtype: int64\n",
            "1          579\n",
            "2           35\n",
            "3           33\n",
            "10          14\n",
            "4           12\n",
            "7            9\n",
            "8            8\n",
            "5            6\n",
            "6            3\n",
            "mitoses      1\n",
            "Name: Mitoses, dtype: int64\n",
            "2        458\n",
            "4        241\n",
            "class      1\n",
            "Name: Class, dtype: int64\n"
          ],
          "name": "stdout"
        }
      ]
    },
    {
      "cell_type": "markdown",
      "metadata": {
        "id": "yva4I-6gzlfR"
      },
      "source": [
        "Convert data type of Bare_Nuclei to integer"
      ]
    },
    {
      "cell_type": "code",
      "metadata": {
        "id": "g7V1HVy9z0iu"
      },
      "source": [
        "df['Bare_Nuclei'] = pd.to_numeric(df['Bare_Nuclei'], errors='coerce')\n",
        "df['Clump_thickness']=pd.to_numeric(df['Clump_thickness'], errors='coerce')\n",
        "df['Uniformity_Cell_Size']=pd.to_numeric(df['Uniformity_Cell_Size'], errors='coerce')\n",
        "df['Marginal_Adhesion']=pd.to_numeric(df['Marginal_Adhesion'], errors='coerce')\n",
        "df['Bland_Chromatin']=pd.to_numeric(df['Bland_Chromatin'], errors='coerce')\n",
        "df['Normal_Nucleoli']=pd.to_numeric(df['Normal_Nucleoli'], errors='coerce')\n",
        "df['Mitoses']=pd.to_numeric(df['Mitoses'], errors='coerce')\n",
        "df['Single_Epithelial_Cell_Size']=pd.to_numeric(df['Single_Epithelial_Cell_Size'], errors='coerce')\n",
        "df['Uniformity_Cell_Shape']=pd.to_numeric(df['Uniformity_Cell_Shape'], errors='coerce')\n"
      ],
      "execution_count": null,
      "outputs": []
    },
    {
      "cell_type": "code",
      "metadata": {
        "id": "JFC-OVNg9IAb"
      },
      "source": [
        "df['Class']=pd.to_numeric(df['Class'],errors='coerce')"
      ],
      "execution_count": null,
      "outputs": []
    },
    {
      "cell_type": "code",
      "metadata": {
        "colab": {
          "base_uri": "https://localhost:8080/"
        },
        "id": "lCbh0HK0z7rf",
        "outputId": "108b852a-4ffb-4591-8e52-a9be341db6cc"
      },
      "source": [
        "df.dtypes\n",
        "\n"
      ],
      "execution_count": null,
      "outputs": [
        {
          "output_type": "execute_result",
          "data": {
            "text/plain": [
              "Clump_thickness                float64\n",
              "Uniformity_Cell_Size           float64\n",
              "Uniformity_Cell_Shape          float64\n",
              "Marginal_Adhesion              float64\n",
              "Single_Epithelial_Cell_Size    float64\n",
              "Bare_Nuclei                    float64\n",
              "Bland_Chromatin                float64\n",
              "Normal_Nucleoli                float64\n",
              "Mitoses                        float64\n",
              "Class                          float64\n",
              "dtype: object"
            ]
          },
          "metadata": {
            "tags": []
          },
          "execution_count": 178
        }
      ]
    },
    {
      "cell_type": "code",
      "metadata": {
        "colab": {
          "base_uri": "https://localhost:8080/"
        },
        "id": "8jCy8iiW2vVT",
        "outputId": "961b74fc-6e7b-4628-d8b6-62cffa0b6964"
      },
      "source": [
        "df.isnull().sum()"
      ],
      "execution_count": null,
      "outputs": [
        {
          "output_type": "execute_result",
          "data": {
            "text/plain": [
              "Clump_thickness                 1\n",
              "Uniformity_Cell_Size            1\n",
              "Uniformity_Cell_Shape           1\n",
              "Marginal_Adhesion               1\n",
              "Single_Epithelial_Cell_Size     1\n",
              "Bare_Nuclei                    17\n",
              "Bland_Chromatin                 1\n",
              "Normal_Nucleoli                 1\n",
              "Mitoses                         1\n",
              "Class                           1\n",
              "dtype: int64"
            ]
          },
          "metadata": {
            "tags": []
          },
          "execution_count": 179
        }
      ]
    },
    {
      "cell_type": "code",
      "metadata": {
        "colab": {
          "base_uri": "https://localhost:8080/"
        },
        "id": "islIOhn529gB",
        "outputId": "52dc4b6a-8f77-4103-9446-797b63dd347d"
      },
      "source": [
        "df['Class'].value_counts()\n"
      ],
      "execution_count": null,
      "outputs": [
        {
          "output_type": "execute_result",
          "data": {
            "text/plain": [
              "2.0    458\n",
              "4.0    241\n",
              "Name: Class, dtype: int64"
            ]
          },
          "metadata": {
            "tags": []
          },
          "execution_count": 180
        }
      ]
    },
    {
      "cell_type": "code",
      "metadata": {
        "colab": {
          "base_uri": "https://localhost:8080/",
          "height": 224
        },
        "id": "83l4zlUG3fO1",
        "outputId": "844bf9f4-7ab8-421f-db58-c07e6e57708a"
      },
      "source": [
        "df.head(5)"
      ],
      "execution_count": null,
      "outputs": [
        {
          "output_type": "execute_result",
          "data": {
            "text/html": [
              "<div>\n",
              "<style scoped>\n",
              "    .dataframe tbody tr th:only-of-type {\n",
              "        vertical-align: middle;\n",
              "    }\n",
              "\n",
              "    .dataframe tbody tr th {\n",
              "        vertical-align: top;\n",
              "    }\n",
              "\n",
              "    .dataframe thead th {\n",
              "        text-align: right;\n",
              "    }\n",
              "</style>\n",
              "<table border=\"1\" class=\"dataframe\">\n",
              "  <thead>\n",
              "    <tr style=\"text-align: right;\">\n",
              "      <th></th>\n",
              "      <th>Clump_thickness</th>\n",
              "      <th>Uniformity_Cell_Size</th>\n",
              "      <th>Uniformity_Cell_Shape</th>\n",
              "      <th>Marginal_Adhesion</th>\n",
              "      <th>Single_Epithelial_Cell_Size</th>\n",
              "      <th>Bare_Nuclei</th>\n",
              "      <th>Bland_Chromatin</th>\n",
              "      <th>Normal_Nucleoli</th>\n",
              "      <th>Mitoses</th>\n",
              "      <th>Class</th>\n",
              "    </tr>\n",
              "  </thead>\n",
              "  <tbody>\n",
              "    <tr>\n",
              "      <th>0</th>\n",
              "      <td>NaN</td>\n",
              "      <td>NaN</td>\n",
              "      <td>NaN</td>\n",
              "      <td>NaN</td>\n",
              "      <td>NaN</td>\n",
              "      <td>NaN</td>\n",
              "      <td>NaN</td>\n",
              "      <td>NaN</td>\n",
              "      <td>NaN</td>\n",
              "      <td>NaN</td>\n",
              "    </tr>\n",
              "    <tr>\n",
              "      <th>1</th>\n",
              "      <td>5.0</td>\n",
              "      <td>1.0</td>\n",
              "      <td>1.0</td>\n",
              "      <td>1.0</td>\n",
              "      <td>2.0</td>\n",
              "      <td>1.0</td>\n",
              "      <td>3.0</td>\n",
              "      <td>1.0</td>\n",
              "      <td>1.0</td>\n",
              "      <td>2.0</td>\n",
              "    </tr>\n",
              "    <tr>\n",
              "      <th>2</th>\n",
              "      <td>5.0</td>\n",
              "      <td>4.0</td>\n",
              "      <td>4.0</td>\n",
              "      <td>5.0</td>\n",
              "      <td>7.0</td>\n",
              "      <td>10.0</td>\n",
              "      <td>3.0</td>\n",
              "      <td>2.0</td>\n",
              "      <td>1.0</td>\n",
              "      <td>2.0</td>\n",
              "    </tr>\n",
              "    <tr>\n",
              "      <th>3</th>\n",
              "      <td>3.0</td>\n",
              "      <td>1.0</td>\n",
              "      <td>1.0</td>\n",
              "      <td>1.0</td>\n",
              "      <td>2.0</td>\n",
              "      <td>2.0</td>\n",
              "      <td>3.0</td>\n",
              "      <td>1.0</td>\n",
              "      <td>1.0</td>\n",
              "      <td>2.0</td>\n",
              "    </tr>\n",
              "    <tr>\n",
              "      <th>4</th>\n",
              "      <td>6.0</td>\n",
              "      <td>8.0</td>\n",
              "      <td>8.0</td>\n",
              "      <td>1.0</td>\n",
              "      <td>3.0</td>\n",
              "      <td>4.0</td>\n",
              "      <td>3.0</td>\n",
              "      <td>7.0</td>\n",
              "      <td>1.0</td>\n",
              "      <td>2.0</td>\n",
              "    </tr>\n",
              "  </tbody>\n",
              "</table>\n",
              "</div>"
            ],
            "text/plain": [
              "   Clump_thickness  Uniformity_Cell_Size  ...  Mitoses  Class\n",
              "0              NaN                   NaN  ...      NaN    NaN\n",
              "1              5.0                   1.0  ...      1.0    2.0\n",
              "2              5.0                   4.0  ...      1.0    2.0\n",
              "3              3.0                   1.0  ...      1.0    2.0\n",
              "4              6.0                   8.0  ...      1.0    2.0\n",
              "\n",
              "[5 rows x 10 columns]"
            ]
          },
          "metadata": {
            "tags": []
          },
          "execution_count": 181
        }
      ]
    },
    {
      "cell_type": "code",
      "metadata": {
        "id": "uMJ0iOeO3j7Z"
      },
      "source": [
        "df=df.drop(df.index[0])"
      ],
      "execution_count": null,
      "outputs": []
    },
    {
      "cell_type": "code",
      "metadata": {
        "colab": {
          "base_uri": "https://localhost:8080/"
        },
        "id": "YZQixTyH35n7",
        "outputId": "52368c78-d3ac-48b4-f626-c73f355969e2"
      },
      "source": [
        "df.info()\n"
      ],
      "execution_count": null,
      "outputs": [
        {
          "output_type": "stream",
          "text": [
            "<class 'pandas.core.frame.DataFrame'>\n",
            "Int64Index: 699 entries, 1 to 699\n",
            "Data columns (total 10 columns):\n",
            " #   Column                       Non-Null Count  Dtype  \n",
            "---  ------                       --------------  -----  \n",
            " 0   Clump_thickness              699 non-null    float64\n",
            " 1   Uniformity_Cell_Size         699 non-null    float64\n",
            " 2   Uniformity_Cell_Shape        699 non-null    float64\n",
            " 3   Marginal_Adhesion            699 non-null    float64\n",
            " 4   Single_Epithelial_Cell_Size  699 non-null    float64\n",
            " 5   Bare_Nuclei                  683 non-null    float64\n",
            " 6   Bland_Chromatin              699 non-null    float64\n",
            " 7   Normal_Nucleoli              699 non-null    float64\n",
            " 8   Mitoses                      699 non-null    float64\n",
            " 9   Class                        699 non-null    float64\n",
            "dtypes: float64(10)\n",
            "memory usage: 60.1 KB\n"
          ],
          "name": "stdout"
        }
      ]
    },
    {
      "cell_type": "markdown",
      "metadata": {
        "id": "2IyjVf-06YxS"
      },
      "source": [
        "check percentage of frequency distribution of Class"
      ]
    },
    {
      "cell_type": "code",
      "metadata": {
        "colab": {
          "base_uri": "https://localhost:8080/"
        },
        "id": "c7ruO5Q96dXe",
        "outputId": "cf0b13d4-2352-46ad-9f11-2546f519cb92"
      },
      "source": [
        "df['Class'].value_counts()/np.float(len(df))"
      ],
      "execution_count": null,
      "outputs": [
        {
          "output_type": "execute_result",
          "data": {
            "text/plain": [
              "2.0    0.655222\n",
              "4.0    0.344778\n",
              "Name: Class, dtype: float64"
            ]
          },
          "metadata": {
            "tags": []
          },
          "execution_count": 184
        }
      ]
    },
    {
      "cell_type": "markdown",
      "metadata": {
        "id": "Ng39J_cD6uMU"
      },
      "source": [
        "Outliers in numerical variables"
      ]
    },
    {
      "cell_type": "code",
      "metadata": {
        "colab": {
          "base_uri": "https://localhost:8080/"
        },
        "id": "WzWf12384AiL",
        "outputId": "30093b5b-eec8-4be5-fa86-e716ea11fc05"
      },
      "source": [
        "print(round(df.describe(),2))"
      ],
      "execution_count": null,
      "outputs": [
        {
          "output_type": "stream",
          "text": [
            "       Clump_thickness  Uniformity_Cell_Size  ...  Normal_Nucleoli  Mitoses\n",
            "count           699.00                699.00  ...           699.00   699.00\n",
            "mean              4.42                  3.13  ...             2.87     1.59\n",
            "std               2.82                  3.05  ...             3.05     1.72\n",
            "min               1.00                  1.00  ...             1.00     1.00\n",
            "25%               2.00                  1.00  ...             1.00     1.00\n",
            "50%               4.00                  1.00  ...             1.00     1.00\n",
            "75%               6.00                  5.00  ...             4.00     1.00\n",
            "max              10.00                 10.00  ...            10.00    10.00\n",
            "\n",
            "[8 rows x 9 columns]\n"
          ],
          "name": "stdout"
        }
      ]
    },
    {
      "cell_type": "markdown",
      "metadata": {
        "id": "Pq0NC5QT7HAh"
      },
      "source": [
        "Now, we have a basic understanding of our data. \n",
        "\n",
        "Supplement it with some data visualization to get better understanding of our data."
      ]
    },
    {
      "cell_type": "code",
      "metadata": {
        "colab": {
          "base_uri": "https://localhost:8080/",
          "height": 836
        },
        "id": "__eRZ7tC7WEd",
        "outputId": "9fb613cb-60ba-4f59-c9da-b0eae82be51c"
      },
      "source": [
        "plt.rcParams['figure.figsize']=(30,25)\n",
        "\n",
        "df.plot(kind='hist', bins=10, subplots=True, layout=(5,2), sharex=False, sharey=False)\n",
        "\n",
        "plt.show()"
      ],
      "execution_count": null,
      "outputs": [
        {
          "output_type": "display_data",
          "data": {
            "image/png": "[encoded data removed]",
            "text/plain": [
              "<Figure size 2160x1800 with 10 Axes>"
            ]
          },
          "metadata": {
            "tags": [],
            "needs_background": "light"
          }
        }
      ]
    },
    {
      "cell_type": "markdown",
      "metadata": {
        "id": "w1B8_KD27fQl"
      },
      "source": [
        "We can see that all the variables in the dataset are positively skewed."
      ]
    },
    {
      "cell_type": "markdown",
      "metadata": {
        "id": "yF99MeW07n4L"
      },
      "source": [
        "**Multivariate plots**\n",
        "\n",
        "Estimating correlation coefficients\n",
        "\n",
        "Our dataset is very small. So, we can compute the standard correlation coefficient (also called Pearson's r) between every pair of attributes. We can compute it using the df.corr() method as follows:-"
      ]
    },
    {
      "cell_type": "code",
      "metadata": {
        "colab": {
          "base_uri": "https://localhost:8080/"
        },
        "id": "--o6c9ku7u9U",
        "outputId": "a1acedc9-bd3a-4e5f-cce4-c2b2f7d95cfa"
      },
      "source": [
        "correlation = df.corr()\n",
        "print(correlation)\n"
      ],
      "execution_count": null,
      "outputs": [
        {
          "output_type": "stream",
          "text": [
            "                             Clump_thickness  ...     Class\n",
            "Clump_thickness                     1.000000  ...  0.716001\n",
            "Uniformity_Cell_Size                0.644913  ...  0.817904\n",
            "Uniformity_Cell_Shape               0.654589  ...  0.818934\n",
            "Marginal_Adhesion                   0.486356  ...  0.696800\n",
            "Single_Epithelial_Cell_Size         0.521816  ...  0.682785\n",
            "Bare_Nuclei                         0.593091  ...  0.822696\n",
            "Bland_Chromatin                     0.558428  ...  0.756616\n",
            "Normal_Nucleoli                     0.535835  ...  0.712244\n",
            "Mitoses                             0.350034  ...  0.423170\n",
            "Class                               0.716001  ...  1.000000\n",
            "\n",
            "[10 rows x 10 columns]\n"
          ],
          "name": "stdout"
        }
      ]
    },
    {
      "cell_type": "code",
      "metadata": {
        "colab": {
          "base_uri": "https://localhost:8080/",
          "height": 620
        },
        "id": "V1hMQO0n8Gi4",
        "outputId": "2fe714c8-bcba-40de-a251-efb935497058"
      },
      "source": [
        "plt.figure(figsize=(10,8))\n",
        "plt.title('Correlation of Attributes with Class variable')\n",
        "a = sns.heatmap(correlation, square=True, annot=True, fmt='.2f', linecolor='white')\n",
        "a.set_xticklabels(a.get_xticklabels(), rotation=90)\n",
        "a.set_yticklabels(a.get_yticklabels(), rotation=30)           \n",
        "plt.show()"
      ],
      "execution_count": null,
      "outputs": [
        {
          "output_type": "display_data",
          "data": {
            "image/png": "[encoded data removed]",
            "text/plain": [
              "<Figure size 720x576 with 2 Axes>"
            ]
          },
          "metadata": {
            "tags": [],
            "needs_background": "light"
          }
        }
      ]
    },
    {
      "cell_type": "markdown",
      "metadata": {
        "id": "4uAcJ34o9nfU"
      },
      "source": [
        "Interpretation\n",
        "\n",
        "The correlation coefficient ranges from -1 to +1.\n",
        "\n",
        "*   When it is close to +1, this signifies that there is a strong positive correlation. So, we can see that there is a strong positive correlation between Class and Bare_Nuclei, Class and Uniformity_Cell_Shape, Class and Uniformity_Cell_Size.\n",
        "\n",
        "*   When it is clsoe to -1, it means that there is a strong negative correlation. When it is close to 0, it means that there is no correlation.\n",
        "\n",
        "\n",
        "\n",
        "\n",
        "We can see that all the variables are positively correlated with Class variable. \n",
        "\n",
        "Some variables are strongly positive correlated while some variables are negatively correlated."
      ]
    },
    {
      "cell_type": "markdown",
      "metadata": {
        "id": "HRP4Odxy98lY"
      },
      "source": [
        " **Declare feature vector and target variable**"
      ]
    },
    {
      "cell_type": "code",
      "metadata": {
        "id": "rEpatfMe-RJJ"
      },
      "source": [
        "X = df.drop(['Class'], axis=1)\n",
        "\n",
        "y = df['Class']"
      ],
      "execution_count": null,
      "outputs": []
    },
    {
      "cell_type": "markdown",
      "metadata": {
        "id": "WbrLy4eg-XDN"
      },
      "source": [
        "Split data into separate training and test set"
      ]
    },
    {
      "cell_type": "code",
      "metadata": {
        "colab": {
          "base_uri": "https://localhost:8080/"
        },
        "id": "K3mFBJVJCUbb",
        "outputId": "c8578b24-9eef-4886-dc21-6cf11700e19e"
      },
      "source": [
        "print(y)"
      ],
      "execution_count": null,
      "outputs": [
        {
          "output_type": "stream",
          "text": [
            "1      2.0\n",
            "2      2.0\n",
            "3      2.0\n",
            "4      2.0\n",
            "5      2.0\n",
            "      ... \n",
            "695    2.0\n",
            "696    2.0\n",
            "697    4.0\n",
            "698    4.0\n",
            "699    4.0\n",
            "Name: Class, Length: 699, dtype: float64\n"
          ],
          "name": "stdout"
        }
      ]
    },
    {
      "cell_type": "code",
      "metadata": {
        "colab": {
          "base_uri": "https://localhost:8080/"
        },
        "id": "XZUMdhXuCbdg",
        "outputId": "87634e6c-1ff6-4cd1-ad26-00218da6beb0"
      },
      "source": [
        "print(X)"
      ],
      "execution_count": null,
      "outputs": [
        {
          "output_type": "stream",
          "text": [
            "     Clump_thickness  Uniformity_Cell_Size  ...  Normal_Nucleoli  Mitoses\n",
            "1                5.0                   1.0  ...              1.0      1.0\n",
            "2                5.0                   4.0  ...              2.0      1.0\n",
            "3                3.0                   1.0  ...              1.0      1.0\n",
            "4                6.0                   8.0  ...              7.0      1.0\n",
            "5                4.0                   1.0  ...              1.0      1.0\n",
            "..               ...                   ...  ...              ...      ...\n",
            "695              3.0                   1.0  ...              1.0      1.0\n",
            "696              2.0                   1.0  ...              1.0      1.0\n",
            "697              5.0                  10.0  ...             10.0      2.0\n",
            "698              4.0                   8.0  ...              6.0      1.0\n",
            "699              4.0                   8.0  ...              4.0      1.0\n",
            "\n",
            "[699 rows x 9 columns]\n"
          ],
          "name": "stdout"
        }
      ]
    },
    {
      "cell_type": "code",
      "metadata": {
        "id": "1UYvONZe-jof"
      },
      "source": [
        "from sklearn.model_selection import train_test_split\n",
        "\n",
        "X_train, X_test, y_train, y_test = train_test_split(X, y, test_size = 0.2, random_state = 0)\n",
        "\n"
      ],
      "execution_count": null,
      "outputs": []
    },
    {
      "cell_type": "code",
      "metadata": {
        "colab": {
          "base_uri": "https://localhost:8080/"
        },
        "id": "PgdJ7cQa-oV5",
        "outputId": "aeff5b02-f9c0-4131-9fc7-335e3d59f611"
      },
      "source": [
        "X_train.shape, X_test.shape"
      ],
      "execution_count": null,
      "outputs": [
        {
          "output_type": "execute_result",
          "data": {
            "text/plain": [
              "((559, 9), (140, 9))"
            ]
          },
          "metadata": {
            "tags": []
          },
          "execution_count": 136
        }
      ]
    },
    {
      "cell_type": "code",
      "metadata": {
        "colab": {
          "base_uri": "https://localhost:8080/"
        },
        "id": "iKLgWJySDIM0",
        "outputId": "fb6bc6a8-bc70-4ca4-e5ee-302a0d9fec72"
      },
      "source": [
        "y_train.shape,y_test.shape"
      ],
      "execution_count": null,
      "outputs": [
        {
          "output_type": "execute_result",
          "data": {
            "text/plain": [
              "((559,), (140,))"
            ]
          },
          "metadata": {
            "tags": []
          },
          "execution_count": 137
        }
      ]
    },
    {
      "cell_type": "markdown",
      "metadata": {
        "id": "2jqBmEHx_v54"
      },
      "source": [
        "Feature Engineering \n",
        "\n",
        "\n",
        "Feature Engineering is the process of transforming raw data into useful features that help us to understand our model better and increase its predictive power. I will carry out feature engineering on different types of variables."
      ]
    },
    {
      "cell_type": "code",
      "metadata": {
        "colab": {
          "base_uri": "https://localhost:8080/"
        },
        "id": "gIqy6xZS_6qV",
        "outputId": "299ad96e-db10-44b3-c721-aef9c7835922"
      },
      "source": [
        "X_train.dtypes"
      ],
      "execution_count": null,
      "outputs": [
        {
          "output_type": "execute_result",
          "data": {
            "text/plain": [
              "Clump_thickness                float64\n",
              "Uniformity_Cell_Size           float64\n",
              "Uniformity_Cell_Shape          float64\n",
              "Marginal_Adhesion              float64\n",
              "Single_Epithelial_Cell_Size    float64\n",
              "Bare_Nuclei                    float64\n",
              "Bland_Chromatin                float64\n",
              "Normal_Nucleoli                float64\n",
              "Mitoses                        float64\n",
              "dtype: object"
            ]
          },
          "metadata": {
            "tags": []
          },
          "execution_count": 109
        }
      ]
    },
    {
      "cell_type": "code",
      "metadata": {
        "colab": {
          "base_uri": "https://localhost:8080/"
        },
        "id": "xQQJRZ4TAAgP",
        "outputId": "8bd757fd-6e3f-4913-c62e-db9162a6bb44"
      },
      "source": [
        "# Missing Value imputation\n",
        "X_train.isnull().sum()\n",
        "X_test.isnull().sum()\n",
        "for col in X_train.columns:\n",
        "    if X_train[col].isnull().mean()>0:\n",
        "        print(col, round(X_train[col].isnull().mean(),4))"
      ],
      "execution_count": null,
      "outputs": [
        {
          "output_type": "stream",
          "text": [
            "Clump_thickness 0.0018\n",
            "Uniformity_Cell_Size 0.0018\n",
            "Uniformity_Cell_Shape 0.0018\n",
            "Marginal_Adhesion 0.0018\n",
            "Single_Epithelial_Cell_Size 0.0018\n",
            "Bare_Nuclei 0.0286\n",
            "Bland_Chromatin 0.0018\n",
            "Normal_Nucleoli 0.0018\n",
            "Mitoses 0.0018\n"
          ],
          "name": "stdout"
        }
      ]
    },
    {
      "cell_type": "markdown",
      "metadata": {
        "id": "GU49ZiEIATmB"
      },
      "source": [
        "I assume that the data are missing completely at random (MCAR). There are two methods which can be used to impute missing values. One is mean or median imputation and other one is random sample imputation. When there are outliers in the dataset, we should use median imputation. So, I will use median imputation because median imputation is robust to outliers.\n",
        "\n",
        "I will impute missing values with the appropriate statistical measures of the data, in this case median. Imputation should be done over the training set, and then propagated to the test set. It means that the statistical measures to be used to fill missing values both in train and test set, should be extracted from the train set only. This is to avoid overfitting."
      ]
    },
    {
      "cell_type": "code",
      "metadata": {
        "colab": {
          "base_uri": "https://localhost:8080/"
        },
        "id": "2X7HuUBmASfb",
        "outputId": "93c8fc59-9afb-42aa-a856-9a233699d022"
      },
      "source": [
        "for df1 in [X_train, X_test]:\n",
        "    for col in X_train.columns:\n",
        "        col_median=X_train[col].median()\n",
        "        df1[col].fillna(col_median, inplace=True)   "
      ],
      "execution_count": null,
      "outputs": [
        {
          "output_type": "stream",
          "text": [
            "/usr/local/lib/python3.7/dist-packages/pandas/core/series.py:4536: SettingWithCopyWarning: \n",
            "A value is trying to be set on a copy of a slice from a DataFrame\n",
            "\n",
            "See the caveats in the documentation: https://pandas.pydata.org/pandas-docs/stable/user_guide/indexing.html#returning-a-view-versus-a-copy\n",
            "  downcast=downcast,\n"
          ],
          "name": "stderr"
        }
      ]
    },
    {
      "cell_type": "code",
      "metadata": {
        "colab": {
          "base_uri": "https://localhost:8080/"
        },
        "id": "qWMUFtrRAeE7",
        "outputId": "5bb71f92-c689-4c43-894d-9a5bd3adba64"
      },
      "source": [
        "X_train.isnull().sum()\n",
        "X_test.isnull().sum()"
      ],
      "execution_count": null,
      "outputs": [
        {
          "output_type": "execute_result",
          "data": {
            "text/plain": [
              "Clump_thickness                0\n",
              "Uniformity_Cell_Size           0\n",
              "Uniformity_Cell_Shape          0\n",
              "Marginal_Adhesion              0\n",
              "Single_Epithelial_Cell_Size    0\n",
              "Bare_Nuclei                    0\n",
              "Bland_Chromatin                0\n",
              "Normal_Nucleoli                0\n",
              "Mitoses                        0\n",
              "dtype: int64"
            ]
          },
          "metadata": {
            "tags": []
          },
          "execution_count": 192
        }
      ]
    },
    {
      "cell_type": "code",
      "metadata": {
        "colab": {
          "base_uri": "https://localhost:8080/",
          "height": 224
        },
        "id": "aTAtwEPXApD0",
        "outputId": "17e8e799-97d9-48dc-cf2a-cd7431da7e24"
      },
      "source": [
        "X_train.head()\n",
        "X_test.head()"
      ],
      "execution_count": null,
      "outputs": [
        {
          "output_type": "execute_result",
          "data": {
            "text/html": [
              "<div>\n",
              "<style scoped>\n",
              "    .dataframe tbody tr th:only-of-type {\n",
              "        vertical-align: middle;\n",
              "    }\n",
              "\n",
              "    .dataframe tbody tr th {\n",
              "        vertical-align: top;\n",
              "    }\n",
              "\n",
              "    .dataframe thead th {\n",
              "        text-align: right;\n",
              "    }\n",
              "</style>\n",
              "<table border=\"1\" class=\"dataframe\">\n",
              "  <thead>\n",
              "    <tr style=\"text-align: right;\">\n",
              "      <th></th>\n",
              "      <th>Clump_thickness</th>\n",
              "      <th>Uniformity_Cell_Size</th>\n",
              "      <th>Uniformity_Cell_Shape</th>\n",
              "      <th>Marginal_Adhesion</th>\n",
              "      <th>Single_Epithelial_Cell_Size</th>\n",
              "      <th>Bare_Nuclei</th>\n",
              "      <th>Bland_Chromatin</th>\n",
              "      <th>Normal_Nucleoli</th>\n",
              "      <th>Mitoses</th>\n",
              "    </tr>\n",
              "  </thead>\n",
              "  <tbody>\n",
              "    <tr>\n",
              "      <th>477</th>\n",
              "      <td>4.0</td>\n",
              "      <td>1.0</td>\n",
              "      <td>2.0</td>\n",
              "      <td>1.0</td>\n",
              "      <td>2.0</td>\n",
              "      <td>1.0</td>\n",
              "      <td>1.0</td>\n",
              "      <td>1.0</td>\n",
              "      <td>1.0</td>\n",
              "    </tr>\n",
              "    <tr>\n",
              "      <th>532</th>\n",
              "      <td>4.0</td>\n",
              "      <td>2.0</td>\n",
              "      <td>2.0</td>\n",
              "      <td>1.0</td>\n",
              "      <td>2.0</td>\n",
              "      <td>1.0</td>\n",
              "      <td>2.0</td>\n",
              "      <td>1.0</td>\n",
              "      <td>1.0</td>\n",
              "    </tr>\n",
              "    <tr>\n",
              "      <th>41</th>\n",
              "      <td>6.0</td>\n",
              "      <td>6.0</td>\n",
              "      <td>6.0</td>\n",
              "      <td>9.0</td>\n",
              "      <td>6.0</td>\n",
              "      <td>1.0</td>\n",
              "      <td>7.0</td>\n",
              "      <td>8.0</td>\n",
              "      <td>1.0</td>\n",
              "    </tr>\n",
              "    <tr>\n",
              "      <th>433</th>\n",
              "      <td>5.0</td>\n",
              "      <td>1.0</td>\n",
              "      <td>1.0</td>\n",
              "      <td>1.0</td>\n",
              "      <td>2.0</td>\n",
              "      <td>1.0</td>\n",
              "      <td>2.0</td>\n",
              "      <td>2.0</td>\n",
              "      <td>1.0</td>\n",
              "    </tr>\n",
              "    <tr>\n",
              "      <th>15</th>\n",
              "      <td>8.0</td>\n",
              "      <td>7.0</td>\n",
              "      <td>5.0</td>\n",
              "      <td>10.0</td>\n",
              "      <td>7.0</td>\n",
              "      <td>9.0</td>\n",
              "      <td>5.0</td>\n",
              "      <td>5.0</td>\n",
              "      <td>4.0</td>\n",
              "    </tr>\n",
              "  </tbody>\n",
              "</table>\n",
              "</div>"
            ],
            "text/plain": [
              "     Clump_thickness  Uniformity_Cell_Size  ...  Normal_Nucleoli  Mitoses\n",
              "477              4.0                   1.0  ...              1.0      1.0\n",
              "532              4.0                   2.0  ...              1.0      1.0\n",
              "41               6.0                   6.0  ...              8.0      1.0\n",
              "433              5.0                   1.0  ...              2.0      1.0\n",
              "15               8.0                   7.0  ...              5.0      4.0\n",
              "\n",
              "[5 rows x 9 columns]"
            ]
          },
          "metadata": {
            "tags": []
          },
          "execution_count": 193
        }
      ]
    },
    {
      "cell_type": "markdown",
      "metadata": {
        "id": "C4crGg1bBDav"
      },
      "source": [
        "**Fit K Neighbours Classifier to the training**"
      ]
    },
    {
      "cell_type": "code",
      "metadata": {
        "colab": {
          "base_uri": "https://localhost:8080/"
        },
        "id": "EChGXX_jBGfe",
        "outputId": "804936f3-fa00-4e3b-92dc-7b8ed2ca8c4d"
      },
      "source": [
        "# import KNeighbors ClaSSifier from sklearn\n",
        "from sklearn.neighbors import KNeighborsClassifier\n",
        "\n",
        "\n",
        "# instantiate the model\n",
        "knn = KNeighborsClassifier(n_neighbors=3)\n",
        "\n",
        "\n",
        "# fit the model to the training set\n",
        "knn.fit(X_train, y_train)"
      ],
      "execution_count": null,
      "outputs": [
        {
          "output_type": "execute_result",
          "data": {
            "text/plain": [
              "KNeighborsClassifier(algorithm='auto', leaf_size=30, metric='minkowski',\n",
              "                     metric_params=None, n_jobs=None, n_neighbors=3, p=2,\n",
              "                     weights='uniform')"
            ]
          },
          "metadata": {
            "tags": []
          },
          "execution_count": 194
        }
      ]
    },
    {
      "cell_type": "code",
      "metadata": {
        "colab": {
          "base_uri": "https://localhost:8080/"
        },
        "id": "4pleTx4PDsgS",
        "outputId": "a3fe8a3e-8fc1-4baf-ea8b-00e219a7500e"
      },
      "source": [
        "X_train.isna().sum()"
      ],
      "execution_count": null,
      "outputs": [
        {
          "output_type": "execute_result",
          "data": {
            "text/plain": [
              "Clump_thickness                0\n",
              "Uniformity_Cell_Size           0\n",
              "Uniformity_Cell_Shape          0\n",
              "Marginal_Adhesion              0\n",
              "Single_Epithelial_Cell_Size    0\n",
              "Bare_Nuclei                    0\n",
              "Bland_Chromatin                0\n",
              "Normal_Nucleoli                0\n",
              "Mitoses                        0\n",
              "dtype: int64"
            ]
          },
          "metadata": {
            "tags": []
          },
          "execution_count": 144
        }
      ]
    },
    {
      "cell_type": "code",
      "metadata": {
        "colab": {
          "base_uri": "https://localhost:8080/"
        },
        "id": "5Iq2yP96BOgu",
        "outputId": "b5f1e8b1-178b-4346-8f78-2809d519a810"
      },
      "source": [
        "# Predict test results\n",
        "y_pred = knn.predict(X_test)\n",
        "\n",
        "y_pred"
      ],
      "execution_count": null,
      "outputs": [
        {
          "output_type": "execute_result",
          "data": {
            "text/plain": [
              "array([2., 2., 4., 2., 4., 2., 4., 2., 4., 4., 2., 2., 4., 4., 4., 2., 2.,\n",
              "       4., 4., 2., 4., 4., 2., 2., 2., 4., 2., 2., 4., 4., 2., 2., 2., 2.,\n",
              "       2., 2., 2., 4., 2., 2., 2., 2., 2., 2., 4., 4., 2., 4., 2., 4., 4.,\n",
              "       2., 2., 4., 2., 2., 2., 2., 2., 2., 4., 2., 2., 4., 4., 4., 4., 2.,\n",
              "       2., 4., 2., 2., 4., 4., 2., 2., 2., 2., 4., 2., 2., 2., 4., 2., 2.,\n",
              "       2., 4., 2., 4., 4., 2., 2., 2., 4., 2., 2., 2., 4., 2., 4., 4., 2.,\n",
              "       2., 2., 4., 2., 2., 2., 2., 2., 4., 4., 4., 2., 2., 2., 2., 2., 4.,\n",
              "       4., 4., 4., 2., 4., 2., 2., 4., 4., 4., 4., 4., 2., 2., 4., 4., 2.,\n",
              "       2., 4., 2., 2.])"
            ]
          },
          "metadata": {
            "tags": []
          },
          "execution_count": 195
        }
      ]
    },
    {
      "cell_type": "code",
      "metadata": {
        "colab": {
          "base_uri": "https://localhost:8080/"
        },
        "id": "8bUd7i9RFuK1",
        "outputId": "263c3116-4e27-4f21-b85a-3a9fc8504659"
      },
      "source": [
        "#predict_proba method gives the probabilities for the target variable(2 and 4) in this case, in array form.\n",
        "\n",
        "#2 is for probability of benign cancer and 4 is for probability of malignant cancer.\n",
        "\n",
        "knn.predict_proba(X_test)[:,0]"
      ],
      "execution_count": null,
      "outputs": [
        {
          "output_type": "execute_result",
          "data": {
            "text/plain": [
              "array([1.        , 1.        , 0.33333333, 1.        , 0.        ,\n",
              "       1.        , 0.        , 1.        , 0.        , 0.33333333,\n",
              "       1.        , 1.        , 0.        , 0.        , 0.        ,\n",
              "       1.        , 1.        , 0.        , 0.        , 1.        ,\n",
              "       0.        , 0.        , 1.        , 1.        , 0.66666667,\n",
              "       0.        , 1.        , 1.        , 0.        , 0.        ,\n",
              "       1.        , 1.        , 1.        , 1.        , 1.        ,\n",
              "       1.        , 1.        , 0.        , 1.        , 1.        ,\n",
              "       1.        , 1.        , 1.        , 1.        , 0.        ,\n",
              "       0.        , 1.        , 0.        , 1.        , 0.        ,\n",
              "       0.        , 1.        , 1.        , 0.        , 1.        ,\n",
              "       1.        , 1.        , 1.        , 1.        , 1.        ,\n",
              "       0.        , 1.        , 1.        , 0.        , 0.33333333,\n",
              "       0.33333333, 0.        , 1.        , 1.        , 0.        ,\n",
              "       1.        , 1.        , 0.        , 0.        , 1.        ,\n",
              "       1.        , 1.        , 1.        , 0.        , 1.        ,\n",
              "       1.        , 1.        , 0.        , 1.        , 1.        ,\n",
              "       1.        , 0.        , 1.        , 0.        , 0.        ,\n",
              "       1.        , 1.        , 0.66666667, 0.        , 1.        ,\n",
              "       1.        , 1.        , 0.        , 1.        , 0.        ,\n",
              "       0.        , 1.        , 1.        , 1.        , 0.        ,\n",
              "       1.        , 1.        , 1.        , 1.        , 1.        ,\n",
              "       0.        , 0.33333333, 0.        , 1.        , 1.        ,\n",
              "       1.        , 1.        , 1.        , 0.        , 0.        ,\n",
              "       0.        , 0.        , 1.        , 0.        , 1.        ,\n",
              "       1.        , 0.33333333, 0.33333333, 0.        , 0.        ,\n",
              "       0.        , 1.        , 1.        , 0.33333333, 0.        ,\n",
              "       1.        , 1.        , 0.        , 1.        , 1.        ])"
            ]
          },
          "metadata": {
            "tags": []
          },
          "execution_count": 146
        }
      ]
    },
    {
      "cell_type": "code",
      "metadata": {
        "colab": {
          "base_uri": "https://localhost:8080/"
        },
        "id": "uRo8mDxmF_2y",
        "outputId": "0fda7363-e45c-4aac-95dd-6a8cd2d43d26"
      },
      "source": [
        "knn.predict_proba(X_test)[:,1]"
      ],
      "execution_count": null,
      "outputs": [
        {
          "output_type": "execute_result",
          "data": {
            "text/plain": [
              "array([0.        , 0.        , 0.66666667, 0.        , 1.        ,\n",
              "       0.        , 1.        , 0.        , 1.        , 0.66666667,\n",
              "       0.        , 0.        , 1.        , 1.        , 1.        ,\n",
              "       0.        , 0.        , 1.        , 1.        , 0.        ,\n",
              "       1.        , 1.        , 0.        , 0.        , 0.33333333,\n",
              "       1.        , 0.        , 0.        , 1.        , 1.        ,\n",
              "       0.        , 0.        , 0.        , 0.        , 0.        ,\n",
              "       0.        , 0.        , 1.        , 0.        , 0.        ,\n",
              "       0.        , 0.        , 0.        , 0.        , 1.        ,\n",
              "       1.        , 0.        , 1.        , 0.        , 1.        ,\n",
              "       1.        , 0.        , 0.        , 1.        , 0.        ,\n",
              "       0.        , 0.        , 0.        , 0.        , 0.        ,\n",
              "       1.        , 0.        , 0.        , 1.        , 0.66666667,\n",
              "       0.66666667, 1.        , 0.        , 0.        , 1.        ,\n",
              "       0.        , 0.        , 1.        , 1.        , 0.        ,\n",
              "       0.        , 0.        , 0.        , 1.        , 0.        ,\n",
              "       0.        , 0.        , 1.        , 0.        , 0.        ,\n",
              "       0.        , 1.        , 0.        , 1.        , 1.        ,\n",
              "       0.        , 0.        , 0.33333333, 1.        , 0.        ,\n",
              "       0.        , 0.        , 1.        , 0.        , 1.        ,\n",
              "       1.        , 0.        , 0.        , 0.        , 1.        ,\n",
              "       0.        , 0.        , 0.        , 0.        , 0.        ,\n",
              "       1.        , 0.66666667, 1.        , 0.        , 0.        ,\n",
              "       0.        , 0.        , 0.        , 1.        , 1.        ,\n",
              "       1.        , 1.        , 0.        , 1.        , 0.        ,\n",
              "       0.        , 0.66666667, 0.66666667, 1.        , 1.        ,\n",
              "       1.        , 0.        , 0.        , 0.66666667, 1.        ,\n",
              "       0.        , 0.        , 1.        , 0.        , 0.        ])"
            ]
          },
          "metadata": {
            "tags": []
          },
          "execution_count": 147
        }
      ]
    },
    {
      "cell_type": "code",
      "metadata": {
        "colab": {
          "base_uri": "https://localhost:8080/"
        },
        "id": "kKVtuLXcGGjR",
        "outputId": "06c03b0e-5030-4dc4-f54a-c701b63a27b8"
      },
      "source": [
        "from sklearn.metrics import accuracy_score\n",
        "\n",
        "print('Model accuracy score: {0:0.4f}'. format(accuracy_score(y_test, y_pred)))"
      ],
      "execution_count": null,
      "outputs": [
        {
          "output_type": "stream",
          "text": [
            "Model accuracy score: 0.9786\n"
          ],
          "name": "stdout"
        }
      ]
    },
    {
      "cell_type": "code",
      "metadata": {
        "colab": {
          "base_uri": "https://localhost:8080/"
        },
        "id": "7x4AJ4mZGjb3",
        "outputId": "528b3dce-60f8-4787-e705-5a4d21c69e8d"
      },
      "source": [
        "# print the scores on training and test set\n",
        "\n",
        "print('Training set score: {:.4f}'.format(knn.score(X_train, y_train)))\n",
        "\n",
        "print('Test set score: {:.4f}'.format(knn.score(X_test, y_test)))"
      ],
      "execution_count": null,
      "outputs": [
        {
          "output_type": "stream",
          "text": [
            "Training set score: 0.9803\n",
            "Test set score: 0.9786\n"
          ],
          "name": "stdout"
        }
      ]
    },
    {
      "cell_type": "code",
      "metadata": {
        "colab": {
          "base_uri": "https://localhost:8080/"
        },
        "id": "WqdMr-JWG0JO",
        "outputId": "119b446b-dc41-41ab-945a-fce9c1ebd53e"
      },
      "source": [
        "# instantiate the model with k=5\n",
        "knn_5 = KNeighborsClassifier(n_neighbors=5)\n",
        "\n",
        "\n",
        "# fit the model to the training set\n",
        "knn_5.fit(X_train, y_train)\n",
        "\n",
        "\n",
        "# predict on the test-set\n",
        "y_pred_5 = knn_5.predict(X_test)\n",
        "\n",
        "\n",
        "print('Model accuracy score with k=5 : {0:0.4f}'. format(accuracy_score(y_test, y_pred_5)))"
      ],
      "execution_count": null,
      "outputs": [
        {
          "output_type": "stream",
          "text": [
            "Model accuracy score with k=5 : 0.9786\n"
          ],
          "name": "stdout"
        }
      ]
    },
    {
      "cell_type": "code",
      "metadata": {
        "colab": {
          "base_uri": "https://localhost:8080/"
        },
        "id": "Igc_WsoBG5ws",
        "outputId": "cad06ebb-b651-4441-e94f-3d74cddf8061"
      },
      "source": [
        "# instantiate the model with k=7\n",
        "knn_7 = KNeighborsClassifier(n_neighbors=7)\n",
        "\n",
        "\n",
        "# fit the model to the training set\n",
        "knn_7.fit(X_train, y_train)\n",
        "\n",
        "\n",
        "# predict on the test-set\n",
        "y_pred_7 = knn_7.predict(X_test)\n",
        "\n",
        "\n",
        "print('Model accuracy score with k=7 : {0:0.4f}'. format(accuracy_score(y_test, y_pred_7)))"
      ],
      "execution_count": null,
      "outputs": [
        {
          "output_type": "stream",
          "text": [
            "Model accuracy score with k=7 : 0.9786\n"
          ],
          "name": "stdout"
        }
      ]
    },
    {
      "cell_type": "code",
      "metadata": {
        "colab": {
          "base_uri": "https://localhost:8080/"
        },
        "id": "ToSeMYqdG9Sv",
        "outputId": "015a247e-9e20-4339-ecd1-73e25ace4e53"
      },
      "source": [
        "# instantiate the model with k=8\n",
        "knn_8 = KNeighborsClassifier(n_neighbors=8)\n",
        "\n",
        "\n",
        "# fit the model to the training set\n",
        "knn_8.fit(X_train, y_train)\n",
        "\n",
        "\n",
        "# predict on the test-set\n",
        "y_pred_8 = knn_8.predict(X_test)\n",
        "\n",
        "\n",
        "print('Model accuracy score with k=8 : {0:0.4f}'. format(accuracy_score(y_test, y_pred_8)))"
      ],
      "execution_count": null,
      "outputs": [
        {
          "output_type": "stream",
          "text": [
            "Model accuracy score with k=8 : 0.9786\n"
          ],
          "name": "stdout"
        }
      ]
    },
    {
      "cell_type": "code",
      "metadata": {
        "colab": {
          "base_uri": "https://localhost:8080/"
        },
        "id": "NvPd9PIVHEyn",
        "outputId": "9f33ae46-9367-4976-c203-f34bccab3878"
      },
      "source": [
        "# instantiate the model with k=9\n",
        "knn_9 = KNeighborsClassifier(n_neighbors=9)\n",
        "\n",
        "\n",
        "# fit the model to the training set\n",
        "knn_9.fit(X_train, y_train)\n",
        "\n",
        "\n",
        "# predict on the test-set\n",
        "y_pred_9 = knn_9.predict(X_test)\n",
        "\n",
        "\n",
        "print('Model accuracy score with k=9 : {0:0.4f}'. format(accuracy_score(y_test, y_pred_9)))"
      ],
      "execution_count": null,
      "outputs": [
        {
          "output_type": "stream",
          "text": [
            "Model accuracy score with k=9 : 0.9786\n"
          ],
          "name": "stdout"
        }
      ]
    },
    {
      "cell_type": "code",
      "metadata": {
        "colab": {
          "base_uri": "https://localhost:8080/"
        },
        "id": "frzgxY3eHMty",
        "outputId": "32d6bc5e-f051-470b-8ee6-f1602bd00b25"
      },
      "source": [
        "# instantiate the model with k=25\n",
        "knn_25 = KNeighborsClassifier(n_neighbors=25)\n",
        "\n",
        "\n",
        "# fit the model to the training set\n",
        "knn_25.fit(X_train, y_train)\n",
        "\n",
        "\n",
        "# predict on the test-set\n",
        "y_pred_25 = knn_25.predict(X_test)\n",
        "\n",
        "\n",
        "print('Model accuracy score with k=10 : {0:0.4f}'. format(accuracy_score(y_test, y_pred_25)))"
      ],
      "execution_count": null,
      "outputs": [
        {
          "output_type": "stream",
          "text": [
            "Model accuracy score with k=10 : 0.9714\n"
          ],
          "name": "stdout"
        }
      ]
    },
    {
      "cell_type": "markdown",
      "metadata": {
        "id": "XeWBrALeIAQ7"
      },
      "source": [
        "**Confusion matrix** \n",
        "\n",
        "\n",
        "A confusion matrix is a tool for summarizing the performance of a classification algorithm. A confusion matrix will give us a clear picture of classification model performance and the types of errors produced by the model. It gives us a summary of correct and incorrect predictions broken down by each category. The summary is represented in a tabular form.\n",
        "\n",
        "Four types of outcomes are possible while evaluating a classification model performance. These four outcomes are described below:-\n",
        "\n",
        "True Positives (TP) – True Positives occur when we predict an observation belongs to a certain class and the observation actually belongs to that class.\n",
        "\n",
        "True Negatives (TN) – True Negatives occur when we predict an observation does not belong to a certain class and the observation actually does not belong to that class.\n",
        "\n",
        "False Positives (FP) – False Positives occur when we predict an observation belongs to a certain class but the observation actually does not belong to that class. This type of error is called Type I error.\n",
        "\n",
        "False Negatives (FN) – False Negatives occur when we predict an observation does not belong to a certain class but the observation actually belongs to that class. This is a very serious error and it is called Type II error.\n",
        "\n",
        "These four outcomes are summarized in a confusion matrix given below."
      ]
    },
    {
      "cell_type": "code",
      "metadata": {
        "colab": {
          "base_uri": "https://localhost:8080/"
        },
        "id": "ows2bzt-IPeO",
        "outputId": "d0637357-60e1-4cb8-9d53-140b058bcea2"
      },
      "source": [
        "from sklearn.metrics import confusion_matrix\n",
        "\n",
        "cm = confusion_matrix(y_test, y_pred)\n",
        "\n",
        "print('Confusion matrix\\n\\n', cm)\n",
        "\n",
        "print('\\nTrue Positives(TP) = ', cm[0,0])\n",
        "\n",
        "print('\\nTrue Negatives(TN) = ', cm[1,1])\n",
        "\n",
        "print('\\nFalse Positives(FP) = ', cm[0,1])\n",
        "\n",
        "print('\\nFalse Negatives(FN) = ', cm[1,0])"
      ],
      "execution_count": null,
      "outputs": [
        {
          "output_type": "stream",
          "text": [
            "Confusion matrix\n",
            "\n",
            " [[83  2]\n",
            " [ 1 54]]\n",
            "\n",
            "True Positives(TP) =  83\n",
            "\n",
            "True Negatives(TN) =  54\n",
            "\n",
            "False Positives(FP) =  2\n",
            "\n",
            "False Negatives(FN) =  1\n"
          ],
          "name": "stdout"
        }
      ]
    },
    {
      "cell_type": "code",
      "metadata": {
        "colab": {
          "base_uri": "https://localhost:8080/",
          "height": 299
        },
        "id": "hxVktvMxIwfO",
        "outputId": "0c194c80-ee4a-4034-bc1d-fc28703f5b3a"
      },
      "source": [
        "#visualize confusion matrix with seaborn heatmap\n",
        "\n",
        "plt.figure(figsize=(6,4))\n",
        "\n",
        "cm_matrix = pd.DataFrame(data=cm_7, columns=['Actual Positive:1', 'Actual Negative:0'], \n",
        "                                 index=['Predict Positive:1', 'Predict Negative:0'])\n",
        "\n",
        "sns.heatmap(cm_matrix, annot=True, fmt='d', cmap='YlGnBu')"
      ],
      "execution_count": null,
      "outputs": [
        {
          "output_type": "execute_result",
          "data": {
            "text/plain": [
              "<matplotlib.axes._subplots.AxesSubplot at 0x7f7eb913f190>"
            ]
          },
          "metadata": {
            "tags": []
          },
          "execution_count": 167
        },
        {
          "output_type": "display_data",
          "data": {
            "image/png": "[encoded data removed]",
            "text/plain": [
              "<Figure size 432x288 with 2 Axes>"
            ]
          },
          "metadata": {
            "tags": [],
            "needs_background": "light"
          }
        }
      ]
    },
    {
      "cell_type": "markdown",
      "metadata": {
        "id": "3Z70zzoFWn51"
      },
      "source": [
        ""
      ]
    }
  ]
}